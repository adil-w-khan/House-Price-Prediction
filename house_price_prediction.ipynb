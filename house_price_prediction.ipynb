{
 "cells": [
  {
   "cell_type": "markdown",
   "id": "fbd97045",
   "metadata": {},
   "source": [
    "# 🏠 House Price Prediction with Multiple ML Models\n",
    "\n",
    "This project predicts house prices using different machine learning models and compares their accuracy and training time.  \n",
    "We'll use:\n",
    "- **Python** for implementation\n",
    "- **NumPy** & **Pandas** for data handling\n",
    "- **Matplotlib** for visualization\n",
    "- **TensorFlow** for neural networks\n",
    "\n",
    "## Goals:\n",
    "1. Load and explore the dataset\n",
    "2. Preprocess data (handle missing values, scaling, encoding)\n",
    "3. Train multiple models\n",
    "4. Compare accuracy & execution time\n",
    "5. Visualize results"
   ]
  },
  {
   "cell_type": "code",
   "execution_count": 2,
   "id": "045a2866",
   "metadata": {},
   "outputs": [
    {
     "name": "stderr",
     "output_type": "stream",
     "text": [
      "Matplotlib is building the font cache; this may take a moment.\n"
     ]
    }
   ],
   "source": [
    "import numpy as np\n",
    "import pandas as pd\n",
    "import matplotlib.pyplot as plt\n",
    "import time\n",
    "\n",
    "from sklearn.model_selection import train_test_split\n",
    "from sklearn.preprocessing import StandardScaler\n",
    "from sklearn.metrics import mean_squared_error, r2_score\n",
    "from sklearn.linear_model import LinearRegression\n",
    "from sklearn.tree import DecisionTreeRegressor\n",
    "from sklearn.ensemble import RandomForestRegressor\n",
    "\n",
    "import tensorflow as tf\n",
    "from tensorflow import keras\n"
   ]
  }
 ],
 "metadata": {
  "kernelspec": {
   "display_name": ".venv (3.13.2)",
   "language": "python",
   "name": "python3"
  },
  "language_info": {
   "codemirror_mode": {
    "name": "ipython",
    "version": 3
   },
   "file_extension": ".py",
   "mimetype": "text/x-python",
   "name": "python",
   "nbconvert_exporter": "python",
   "pygments_lexer": "ipython3",
   "version": "3.13.2"
  }
 },
 "nbformat": 4,
 "nbformat_minor": 5
}
